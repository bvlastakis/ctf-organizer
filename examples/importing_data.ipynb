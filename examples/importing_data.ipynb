{
 "metadata": {
  "name": "",
  "signature": "sha256:43049ff151a86eece4f30666ada89a10bcde7533b1837f868cc13fd331641e05"
 },
 "nbformat": 3,
 "nbformat_minor": 0,
 "worksheets": [
  {
   "cells": [
    {
     "cell_type": "code",
     "collapsed": false,
     "input": [
      "from build_applications import Applicants\n",
      "\n",
      "apps = Applicants()\n",
      "apps.importInfo('data_template.csv')\n",
      "apps.buildTables()\n",
      "apps.loadMaterials()"
     ],
     "language": "python",
     "metadata": {},
     "outputs": [
      {
       "ename": "SyntaxError",
       "evalue": "invalid syntax (<ipython-input-1-9d487938eb3e>, line 1)",
       "output_type": "pyerr",
       "traceback": [
        "\u001b[0;36m  File \u001b[0;32m\"<ipython-input-1-9d487938eb3e>\"\u001b[0;36m, line \u001b[0;32m1\u001b[0m\n\u001b[0;31m    from build-applications import Applicants\u001b[0m\n\u001b[0m              ^\u001b[0m\n\u001b[0;31mSyntaxError\u001b[0m\u001b[0;31m:\u001b[0m invalid syntax\n"
       ]
      }
     ],
     "prompt_number": 1
    },
    {
     "cell_type": "code",
     "collapsed": false,
     "input": [
      "ids = apps.applicants.keys()\n",
      "\n",
      "for question in enumerate(apps.questions):\n",
      "    print question"
     ],
     "language": "python",
     "metadata": {},
     "outputs": [
      {
       "output_type": "stream",
       "stream": "stdout",
       "text": [
        "(0, 'ResponseID')\n",
        "(1, 'ResponseSet')\n",
        "(2, 'IPAddress')\n",
        "(3, 'StartDate')\n",
        "(4, 'EndDate')\n",
        "(5, 'Finished')\n",
        "(6, 'Status')\n",
        "(7, ' ')\n",
        "(8, 'Welcome to the Graduate Student Assembly (GSA) Conference Travel Fellowship (CTF) application.Please...')\n",
        "(9, ' ')\n",
        "(10, 'Applicant Information')\n",
        "(11, 'Applicant Last Name (Family Name)')\n",
        "(12, 'Applicant First Name (Given Name)')\n",
        "(13, 'Applicant NetID')\n",
        "(14, 'Applicant Student ID (SID # - 9 digits)')\n",
        "(15, 'Applicant Yale email address-Type email address')\n",
        "(16, 'Applicant Yale email address-Re-type email address')\n",
        "(17, 'Type of Graduate Program')\n",
        "(18, 'Applicant Year of Study')\n",
        "(19, 'Applicant Department')\n",
        "(20, 'Applicant Division')\n",
        "(21, 'Name of Person Writing Letter of Recommendation')\n",
        "(22, 'Title of person writing letter of recommendation')\n",
        "(23, 'Yale email address of person writing letter of recommendation (to send a reminder email)')\n",
        "(24, ' ')\n",
        "(25, 'Conference Information')\n",
        "(26, 'Conference Title')\n",
        "(27, 'Conference Sponsoring Organization')\n",
        "(28, 'Date(s) of Conference')\n",
        "(29, 'Location of Conference')\n",
        "(30, 'Conference Website')\n",
        "(31, 'Title of Poster/Oral Presentation')\n",
        "(32, 'Have you previously applied to the CTF for this conference?')\n",
        "(33, 'List the Month and Year under which your previous application was considered. If you have already re...')\n",
        "(34, 'In your time at Yale, have you previously received funds from the GSA CTF?')\n",
        "(35, 'Total of any award(s) you have received.')\n",
        "(36, 'Date(s) you received indicated funds.')\n",
        "(37, 'How would attending this conference be beneficial to your academic and professional development (350...')\n",
        "(38, ' ')\n",
        "(39, 'Budget')\n",
        "(40, 'Transportation Costs-Items included in budget')\n",
        "(41, 'Transportation Costs-Total Cost ($)')\n",
        "(42, 'Accommodation Costs-Items included in budget')\n",
        "(43, 'Accommodation Costs-Rate / Night ($)')\n",
        "(44, 'Accommodation Costs-# of nights')\n",
        "(45, 'Accommodation Costs-Total Cost ($)')\n",
        "(46, 'Conference Fees-Items included in budget')\n",
        "(47, 'Conference Fees-Total Cost ($)')\n",
        "(48, 'Food Costs-Items included in budget')\n",
        "(49, 'Food Costs-Total Cost ($)')\n",
        "(50, 'Other Costs-Items included in budget')\n",
        "(51, 'Other Costs-Total Cost ($)')\n",
        "(52, 'Total Cost of Attending Conference (sum of the previous 5 questions) ($)')\n",
        "(53, 'Available Departmental Funds-Department(s)')\n",
        "(54, 'Available Departmental Funds-Total funds available ($)')\n",
        "(55, 'Funds available through other sources-Funding Source(s)')\n",
        "(56, 'Funds available through other sources-Total funds available ($)')\n",
        "(57, 'Remainder of Conference Unfunded (Total Cost minus any funds received from other sources) ($)')\n",
        "(58, 'Please provide any additional details about your proposed budget. Please be sure to mention: 1) avai...')\n",
        "(59, 'GSA strongly prefers students to seek funding through all available sources. Did you actively seek f...')\n",
        "(60, 'Please explain. Possible Sources include seeking registration fee waivers from conference organizers...')\n",
        "(61, ' ')\n",
        "(62, 'Document Upload')\n",
        "(63, 'Please upload a copy of the letter sent from\\\\conference organizers to you, the applicant, which stat...-File id')\n",
        "(64, 'Please upload a copy of the letter sent from\\\\conference organizers to you, the applicant, which stat...-File name')\n",
        "(65, 'Please upload a copy of the letter sent from\\\\conference organizers to you, the applicant, which stat...-File size')\n",
        "(66, 'Please upload a copy of the letter sent from\\\\conference organizers to you, the applicant, which stat...-File type')\n",
        "(67, 'Please upload a copy of your abstract for the\\\\presentation you are submitting. If you are presenting...-File id')\n",
        "(68, 'Please upload a copy of your abstract for the\\\\presentation you are submitting. If you are presenting...-File name')\n",
        "(69, 'Please upload a copy of your abstract for the\\\\presentation you are submitting. If you are presenting...-File size')\n",
        "(70, 'Please upload a copy of your abstract for the\\\\presentation you are submitting. If you are presenting...-File type')\n",
        "(71, ' ')\n",
        "(72, 'Are you prepared to submit your Conference Travel Fellowship application? Your GSA CTF application w...')\n"
       ]
      }
     ],
     "prompt_number": 2
    },
    {
     "cell_type": "code",
     "collapsed": false,
     "input": [],
     "language": "python",
     "metadata": {},
     "outputs": []
    }
   ],
   "metadata": {}
  }
 ]
}